{
  "nbformat": 4,
  "nbformat_minor": 0,
  "metadata": {
    "kernelspec": {
      "display_name": "Python 3",
      "language": "python",
      "name": "python3"
    },
    "language_info": {
      "codemirror_mode": {
        "name": "ipython",
        "version": 3
      },
      "file_extension": ".py",
      "mimetype": "text/x-python",
      "name": "python",
      "nbconvert_exporter": "python",
      "pygments_lexer": "ipython3",
      "version": "3.6.7"
    },
    "colab": {
      "name": "data_ordering.ipynb",
      "provenance": []
    }
  },
  "cells": [
    {
      "cell_type": "code",
      "metadata": {
        "id": "ZsWZFC5-slXu"
      },
      "source": [
        "import numpy as np\n",
        "import pandas as pd"
      ],
      "execution_count": null,
      "outputs": []
    },
    {
      "cell_type": "code",
      "metadata": {
        "id": "jw4dQI07slXx",
        "outputId": "2b834a36-e691-45cc-84a5-5b1b656aafd8"
      },
      "source": [
        "names_train = pd.read_csv('../../project/Flickr8k_text/Flickr_8k.trainImages.txt',sep = '\\n',header = None)\n",
        "# print(type(names_train))\n",
        "print(names_train.shape)\n",
        "# print(names_train.head())\n",
        "\n",
        "nmdt = {}\n",
        "for ix in range(names_train.shape[0]):\n",
        "#     print(names_train.loc[ix][0])\n",
        "    nmdt[names_train.loc[ix][0]] = []\n",
        "print(len(nmdt))\n",
        "\n",
        "\n",
        "names_test = pd.read_csv('../../project/Flickr8k_text/Flickr_8k.testImages.txt',sep = '\\n',header = None)\n",
        "# print(type(names_test))\n",
        "print(names_test.shape)\n",
        "\n",
        "for ix in range(names_test.shape[0]):\n",
        "#     print(names_test.loc[ix][0])\n",
        "    nmdt[names_test.loc[ix][0]] = []\n",
        "print(len(nmdt))\n",
        "\n",
        "\n",
        "names_val = pd.read_csv('../../project/Flickr8k_text/Flickr_8k.devImages.txt',sep = '\\n',header = None)\n",
        "# print(type(names_val))\n",
        "print(names_val.shape)\n",
        "\n",
        "for ix in range(names_val.shape[0]):\n",
        "#     print(names_val.loc[ix][0])\n",
        "    nmdt[names_val.loc[ix][0]] = []\n",
        "print(len(nmdt))\n",
        "# print(nmdt)\n"
      ],
      "execution_count": null,
      "outputs": [
        {
          "output_type": "stream",
          "text": [
            "(6000, 1)\n",
            "6000\n",
            "(1000, 1)\n",
            "7000\n",
            "(1000, 1)\n",
            "8000\n"
          ],
          "name": "stdout"
        }
      ]
    },
    {
      "cell_type": "code",
      "metadata": {
        "id": "7_0iz3r8slXz",
        "outputId": "d24a41cd-172a-446c-e0e7-d7c4308c2ef8"
      },
      "source": [
        "reviews = pd.read_csv('../../project/Flickr8k_text/Flickr8k.token.txt',sep = '\\n',header = None)\n",
        "print(reviews.shape)\n",
        "\n",
        "for ix in range(reviews.shape[0]):\n",
        "    review = reviews.loc[ix][0]\n",
        "    im_name = review.split('#')[0]\n",
        "#     print(im_name)\n",
        "    caption = review.split('#')[1].split('\\t')[1]\n",
        "#     print(caption)\n",
        "    if nmdt.get(im_name) is None:\n",
        "        continue\n",
        "    else:\n",
        "        nmdt[im_name].append(caption)\n",
        "    "
      ],
      "execution_count": null,
      "outputs": [
        {
          "output_type": "stream",
          "text": [
            "(40460, 1)\n"
          ],
          "name": "stdout"
        }
      ]
    },
    {
      "cell_type": "code",
      "metadata": {
        "id": "fvdIFZBIslX0"
      },
      "source": [
        "fi = open('traindat.txt','w')\n",
        "for key in names_train.loc[:][0]:\n",
        "    for re in nmdt[key]:\n",
        "        \n",
        "        cap = key + '\\t<start> '+ re + ' <end>\\n'\n",
        "#         print(cap)\n",
        "        fi.write(cap)\n",
        "fi.close()"
      ],
      "execution_count": null,
      "outputs": []
    },
    {
      "cell_type": "code",
      "metadata": {
        "id": "juQwtdlKslX4"
      },
      "source": [
        "fi = open('testdat.txt','w')\n",
        "for key in names_test.loc[:][0]:\n",
        "    for re in nmdt[key]:\n",
        "        cap = key + '\\t<start> '+ re + ' <end>\\n'\n",
        "#         print(cap)\n",
        "        fi.write(cap)\n",
        "fi.close()"
      ],
      "execution_count": null,
      "outputs": []
    },
    {
      "cell_type": "code",
      "metadata": {
        "id": "cXiPlqaXslX5"
      },
      "source": [
        "fi = open('valdat.txt','w')\n",
        "for key in names_val.loc[:][0]:\n",
        "    for re in nmdt[key]:\n",
        "        \n",
        "        cap = key + '\\t<start> '+ re + ' <end>\\n'\n",
        "#         print(cap)\n",
        "        fi.write(cap)\n",
        "fi.close()"
      ],
      "execution_count": null,
      "outputs": []
    },
    {
      "cell_type": "code",
      "metadata": {
        "id": "7Pv_6jCtslX6"
      },
      "source": [
        ""
      ],
      "execution_count": null,
      "outputs": []
    },
    {
      "cell_type": "code",
      "metadata": {
        "id": "CZfP3P0MslX6"
      },
      "source": [
        ""
      ],
      "execution_count": null,
      "outputs": []
    }
  ]
}